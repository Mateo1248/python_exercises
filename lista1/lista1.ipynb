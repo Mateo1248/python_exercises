{
 "cells": [
  {
   "cell_type": "markdown",
   "metadata": {},
   "source": [
    "# Lista 1\n",
    "\n",
    "## Kurs wybranego jÄzyka programowania (Python)\n",
    "\n",
    "Wszystkie rozwiÄ",
    "zania proszÄ wpisaÄ w tym notatniku poniĹźej treĹci zadaĹ. Zadania z `*` to zadania dodatkowe."
   ]
  },
  {
   "cell_type": "markdown",
   "metadata": {},
   "source": [
    "## Zadanie 1 _(5pt)_\n",
    "\n",
    "Napisz funkcjÄ, ktĂłry wyĹwietla trĂłjkÄ",
    "t Pascala o zadanej wysokoĹci\n",
    "```\n",
    "                1\n",
    "              1   1\n",
    "            1   2   1\n",
    "          1   3   3   1\n",
    "        1   4   6   4   1\n",
    "      .....................\n",
    "```"
   ]
  },
  {
   "cell_type": "code",
   "execution_count": 12,
   "metadata": {},
   "outputs": [
    {
     "name": "stdout",
     "output_type": "stream",
     "text": [
      "                                                  1 \n",
      "                                               1     1 \n",
      "                                            1     2     1 \n",
      "                                         1     3     3     1 \n",
      "                                      1     4     6     4     1 \n",
      "                                   1     5    10    10     5     1 \n",
      "                                1     6    15    20    15     6     1 \n",
      "                             1     7    21    35    35    21     7     1 \n",
      "                          1     8    28    56    70    56    28     8     1 \n",
      "                       1     9    36    84   126   126    84    36     9     1 \n",
      "                    1    10    45   120   210   252   210   120    45    10     1 \n",
      "                 1    11    55   165   330   462   462   330   165    55    11     1 \n",
      "              1    12    66   220   495   792   924   792   495   220    66    12     1 \n",
      "           1    13    78   286   715  1287  1716  1716  1287   715   286    78    13     1 \n",
      "        1    14    91   364  1001  2002  3003  3432  3003  2002  1001   364    91    14     1 \n"
     ]
    }
   ],
   "source": [
    "def pascal_triangle(n):\n",
    "    a=[]\n",
    "    i=0\n",
    "    for i in range(i, n):\n",
    "        a.append([])\n",
    "        a[i].append(1)\n",
    "        for j in range(1,i):\n",
    "            a[i].append(a[i-1][j-1]+a[i-1][j])\n",
    "        if(n!=0):\n",
    "            a[i].append(1)\n",
    "    for i in range(n):\n",
    "        print(\"   \"*(n-i),end=\" \")\n",
    "        for j in range(0,i+1):\n",
    "            print('{0:5}'.format(a[i][j]),end=\" \")\n",
    "        print()\n",
    "        \n",
    "pascal_triangle(15)"
   ]
  },
  {
   "cell_type": "markdown",
   "metadata": {},
   "source": [
    "## Zadanie 2 _(5pt)_\n",
    "\n",
    "Napisz funkcjÄ `primes(n)` zwracajÄ",
    "ca listÄ liczb pierwszych nie wiÄkszych niĹź $n$ np.\n",
    "\n",
    "```\n",
    "In [ ]:   primes(6)\n",
    "Out [ ]: [2, 3, 5]\n",
    "```"
   ]
  },
  {
   "cell_type": "code",
   "execution_count": 14,
   "metadata": {},
   "outputs": [
    {
     "name": "stdout",
     "output_type": "stream",
     "text": [
      "3\n",
      "5\n",
      "7\n",
      "11\n",
      "13\n",
      "17\n",
      "19\n",
      "23\n",
      "29\n",
      "31\n",
      "37\n",
      "41\n",
      "43\n",
      "47\n",
      "53\n",
      "59\n",
      "61\n",
      "67\n",
      "71\n",
      "73\n",
      "79\n",
      "83\n",
      "89\n",
      "97\n"
     ]
    }
   ],
   "source": [
    "import math\n",
    "\n",
    "def primes(n):\n",
    "    tab=[] \n",
    "    tab.append(2)\n",
    "    for i in range(3,n,2):     \n",
    "        for j in tab:\n",
    "            if i % j == 0: \n",
    "                break \n",
    "            elif j > math.sqrt(i):\n",
    "                tab.append(i) \n",
    "                print(i)\n",
    "                break\n",
    "    \n",
    "primes(100)"
   ]
  },
  {
   "cell_type": "markdown",
   "metadata": {},
   "source": [
    "## Zadanie 3 _(5pt)_\n",
    "\n",
    "Napisz funkcje, ktĂłra usuwa wszystkie powtarzajÄ",
    "ce siÄ elementy z listy (tak, Ĺźe kaĹźdy element wystÄpuje tylko raz) np. z listy `[1,1,2,2,2,3,3,5,5,5,4,4,4,0]` dostajemy `[1,2,3,5,4,0]`."
   ]
  },
  {
   "cell_type": "code",
   "execution_count": 17,
   "metadata": {},
   "outputs": [
    {
     "name": "stdout",
     "output_type": "stream",
     "text": [
      "[1, 2, 3, 5, 6, 7, 8, 9]\n"
     ]
    }
   ],
   "source": [
    "def removeDuplicates(x):\n",
    "    print(list(set(x)))\n",
    "\n",
    "removeDuplicates([1,2,2,2,3,2,1,1,5,6,7,8,7,9])"
   ]
  },
  {
   "cell_type": "markdown",
   "metadata": {},
   "source": [
    "## Zadanie 4 _(10pt)_\n",
    "\n",
    "Napisz funkcjÄ `prime_factors(n)`, ktĂłra rozkĹada $n$ na czynniki pierwsze i jako wynik wraca listÄ par $[(p_1,\\alpha_1), (p_2,\\alpha_2), \\ldots, (p_k, \\alpha_k)]$ takÄ",
    ", Ĺźe $p_1^{\\alpha_1}p_2^{\\alpha_2}\\ldots p_k^{\\alpha_k}$.\n"
   ]
  },
  {
   "cell_type": "code",
   "execution_count": 1,
   "metadata": {},
   "outputs": [
    {
     "name": "stdout",
     "output_type": "stream",
     "text": [
      "[(2, 3), (3, 1), (5, 1)]\n"
     ]
    }
   ],
   "source": [
    "def prime_factors(n):\n",
    "    factors = []\n",
    "    factor = 2\n",
    "    power = 0\n",
    "    while n != 1:\n",
    "        while n % factor == 0:\n",
    "            n //= factor\n",
    "            power += 1\n",
    "        if power != 0:\n",
    "            factors.append((factor,power))\n",
    "            power = 0\n",
    "        factor+= 1\n",
    "    return factors\n",
    "        \n",
    "print(prime_factors(120))"
   ]
  },
  {
   "cell_type": "markdown",
   "metadata": {},
   "source": [
    "## Zadanie 5 _(10pt)_\n",
    "\n",
    "Napisz funkcjÄ `fraczero(n)` liczÄ",
    "cÄ",
    " silnie $n!$ dla $n$ od $0$ do $10000$ oraz jako wynik wraca liczbÄ zer na koĹcu $n!$."
   ]
  },
  {
   "cell_type": "code",
   "execution_count": 2,
   "metadata": {},
   "outputs": [
    {
     "name": "stdout",
     "output_type": "stream",
     "text": [
      "2499\n"
     ]
    }
   ],
   "source": [
    "def fraczero(n):\n",
    "    x = n // 5\n",
    "    y = x \n",
    "    while x > 0:\n",
    "        x /= 5\n",
    "        y += int(x)\n",
    "    return y\n",
    "    \n",
    "\n",
    "print(fraczero(10000))"
   ]
  },
  {
   "cell_type": "markdown",
   "metadata": {},
   "source": [
    "## Zadanie 6 _(10pt)_\n",
    "\n",
    "Napisz program, ktĂłry generuje liczbÄ $20$ liczb losowych (rozkĹad jednostajny) od $1$ do $100$\n",
    "* WyĹwietl listÄ wygenerowanych liczb\n",
    "* WyĹwietl ĹredniÄ",
    "\n",
    "* WyĹwietl najwiÄkszÄ",
    " i najmniejszÄ",
    " wartoĹÄ\n",
    "* WyĹwietl drugÄ",
    " najwiÄkszÄ",
    " i drugÄ",
    " najmniejszÄ",
    " wartoĹÄ na liĹcie\n",
    "* WyĹwietl ile jest liczb parzystych na liĹcie\n",
    " "
   ]
  },
  {
   "cell_type": "code",
   "execution_count": 17,
   "metadata": {},
   "outputs": [
    {
     "name": "stdout",
     "output_type": "stream",
     "text": [
      "[100, 43, 23, 74, 4, 1, 62, 55, 50, 47, 70, 79, 36, 85, 95, 66, 2, 95, 22, 45]\n",
      "average:  52.7\n",
      "max:  100  min:  1\n",
      "max2:  95  min2:  2\n",
      "even counter:  10\n"
     ]
    }
   ],
   "source": [
    "import random\n",
    "\n",
    "def zad6():\n",
    "    numbers = []\n",
    "    counter = 0\n",
    "    \n",
    "    for i in range(20):\n",
    "        numbers.append(random.randint(1, 100))\n",
    "        \n",
    "    print(numbers)\n",
    "    print(\"average: \", sum(numbers)/len(numbers))\n",
    "    \n",
    "    numbers.sort()\n",
    "    for i in numbers:\n",
    "        if i % 2 == 0:\n",
    "            counter += 1\n",
    "            \n",
    "    print(\"max: \", numbers[len(numbers)-1], \" min: \", numbers[0])\n",
    "    print(\"max2: \", numbers[len(numbers)-2], \" min2: \", numbers[1])\n",
    "    print(\"even counter: \", counter)\n",
    "    \n",
    "zad6()\n",
    "        "
   ]
  },
  {
   "cell_type": "markdown",
   "metadata": {},
   "source": [
    "## Zadanie 7 _(10pt)_\n",
    "\n",
    "ZaĹĂłĹźmy, Ĺźe mamy nastÄpujÄ",
    "cÄ",
    " listÄ: `L = ['aababacaa', 'cabaabcca', 'aaabbcbacb', 'acababbaab', ...]` wygenerowanÄ",
    " losowo tzn. lista zawiera losowe ciÄ",
    "gi znakĂłw o zadanej dĹugoĹci z liter `'a'`, `'b'` i `'c'`. Takie wzorce wystÄpujÄ",
    " w wielu miejscach np. sekwencje DNA. UĹźytkownik zawiera swĂłj (wzorzec) ciÄ",
    "g znakĂłw z literami i pustymi miejscami oznaczonymi przez `'*'` np. `\"a**a******\"`. Wykorzystaj sĹownik z kluczami zawierajÄ",
    "cymi indeksy znakĂłw rĂłĹźnych od `'*'` i wartoĹciami liter z wzorca. Napisz program, ktĂłry znajduje wszystkie sekwencje z listy, ktĂłre pasuje do podanego wzorca."
   ]
  },
  {
   "cell_type": "code",
   "execution_count": 29,
   "metadata": {},
   "outputs": [
    {
     "name": "stdout",
     "output_type": "stream",
     "text": [
      "['cbababcbcb']\n"
     ]
    }
   ],
   "source": [
    "import random\n",
    "\n",
    "def match(quantity, pattern):\n",
    "    strings = genStrings(len(pattern), quantity)\n",
    "    patternDict = dict()\n",
    "    position = 0\n",
    "    for i in pattern:\n",
    "        if i != '*':\n",
    "            patternDict[position] = i\n",
    "        position += 1\n",
    "    for i in patternDict:\n",
    "        strings = [x for x in strings if x[i] == patternDict[i]]\n",
    "    print(strings)\n",
    "\n",
    "def genStrings(length, quantity):\n",
    "    strings = []\n",
    "    while len(strings) < quantity:\n",
    "        strings.append(''.join(random.choice('abc') for _ in range(length)))\n",
    "    return strings\n",
    "\n",
    "match(200, \"**aba*cbc*\")"
   ]
  },
  {
   "cell_type": "markdown",
   "metadata": {},
   "source": [
    "## Zadanie 8 _(10pt)_\n",
    "\n",
    "Napisz program, ktĂłry konwerteruje liczby rzymskie na liczby arabskie. Do zapisu liczb rzymskich uĹźywa\n",
    "siÄ 7 liter: `I=1`, `V=5`, `X=10`, `L=50`, `C=100`, `D=500`, `M=1000`. Opis algorytmu zamiany z i na system rzymski moĹźna znaleĹşÄ np. [tutaj](http://www.algorytm.org/algorytmy-arytmetyczne/zamiana-z-i-na-system-rzymski.html)"
   ]
  },
  {
   "cell_type": "code",
   "execution_count": 27,
   "metadata": {},
   "outputs": [
    {
     "data": {
      "text/plain": [
       "3888"
      ]
     },
     "execution_count": 27,
     "metadata": {},
     "output_type": "execute_result"
    }
   ],
   "source": [
    "def roman2arabic(number):\n",
    "    arabic = [1000, 500, 100, 50, 10, 5, 1]\n",
    "    roman = ['M', 'D', 'C', 'L', 'X', 'V', 'I']\n",
    "    i = 0\n",
    "    j = 0\n",
    "    result = 0\n",
    "    length = 0\n",
    "\n",
    "    length = len(number)\n",
    "    \n",
    "    while (j<length) and (i<len(roman)):\n",
    "        if number[j] == roman[i]:\n",
    "            result += arabic[i]\n",
    "            j += 1\n",
    "        elif((i%2 == 0) and \n",
    "        (i<len(roman)-2) and\n",
    "        (j<length-1) and \n",
    "        (number[j] == roman[i+2]) and \n",
    "        (number[j+1] == roman[i])):\n",
    "            result += arabic[i] - arabic[i+2]\n",
    "            j += 2\n",
    "            i += 1\n",
    "        elif ((i%2 == 1) and\n",
    "        (i<len(roman)-1) and \n",
    "        (j<length-1) and\n",
    "        (number[j] == roman[i+1]) and\n",
    "        (number[j+1] == roman[i])):\n",
    "            result += arabic[i] - arabic[i+1]\n",
    "            j += 2\n",
    "            i += 1\n",
    "        else:\n",
    "            i += 1\n",
    "    return result\n",
    " \n",
    "roman2arabic(\"MMMDCCCLXXXVIII\")"
   ]
  },
  {
   "cell_type": "markdown",
   "metadata": {},
   "source": [
    "## Zadanie 9* _(5pt)_\n",
    "\n",
    "Napisz program kalkulator, ktĂłry pobiera wprowadzone wartoĹci oraz funkcje z klawiatury nastÄpnie podaje wynik. W przypadku bĹÄdnych danych zgĹasza bĹÄ",
    "d.\n",
    "\n",
    "PrzykĹadowa sesja:\n",
    "```\n",
    "    Kalkulator\n",
    "    [1]: 2+5*10\n",
    "        52\n",
    "    [2]: sin(0.5)+cos(0.3)\n",
    "        1.434762027729809\n",
    "    [3]: 2^100\n",
    "        1267650600228229401496703205376\n",
    "```\n",
    "\n",
    "PrzykĹadowy kod pobierania danych od uĹźytkownika:\n",
    "\n",
    "```\n",
    "    x = input('Podaj x = ')\n",
    "```"
   ]
  },
  {
   "cell_type": "code",
   "execution_count": null,
   "metadata": {},
   "outputs": [],
   "source": [
    "from math import *\n",
    "\n",
    "def calc():\n",
    "    equation = \"\"\n",
    "    \n",
    "    print(\"Aby zakonczyc naciśnij q\")\n",
    "    print(\"Masz do dyspozycji wszystkie funkcje z biblioteki math oraz proste funkcje wbudowane.\")\n",
    "    while 1:\n",
    "        try :\n",
    "            equation = input('Wpisz równanie = ')\n",
    "            equation = equation.replace(\"^\", \"**\")\n",
    "            if equation == 'q':\n",
    "                print(\"Narka!\")\n",
    "                break\n",
    "            print(\"= \", eval(equation))\n",
    "        except:\n",
    "            print(\"Nie potrafię rozwiązać takiego równania!!!\")\n",
    "calc()"
   ]
  },
  {
   "cell_type": "markdown",
   "metadata": {},
   "source": [
    "\n",
    "## Zadanie 10* _(10pt)_\n",
    "\n",
    "Napisz program, ktĂłry rysuje na ekranie w trybie znakowym wykres funkcji zmiennej $x$. WskazĂłwka: utwĂłrz  ,,tablicÄ dwuwymiarowÄ",
    "'' o wymiarach 80x24 i narysuj wykres w tej tablicy. NastÄpnie wynik wyĹwietl na ekranie.\n",
    "\n",
    "```\n",
    "        Podaj funkcje f(x) = sin(x)\n",
    "        Podaj poczÄ",
    "tek przedziaĹu a = -pi\n",
    "        Podaj koniec przedziaĹu b = pi\n",
    "                                                |\n",
    "                                                |\n",
    "                                                |              ***********\n",
    "                                                |           ***           ***\n",
    "                                                |         **                 **\n",
    "                                                |        *                     *\n",
    "                                                |      **                       **\n",
    "                                                |     *                           *\n",
    "                                                |   **                             **\n",
    "                                                |  *                                 *\n",
    "                                                | *                                   *\n",
    "                                                |*                                     *\n",
    "        ----------------------------------------|---------------------------------------\n",
    "          *                                   * |\n",
    "           *                                 *  |\n",
    "            **                             **   |\n",
    "              *                           *     |\n",
    "               **                       **      |\n",
    "                 *                     *        |\n",
    "                  **                 **         |\n",
    "                    ***           ***           |\n",
    "                       ***** *****              |\n",
    "                            *                   |\n",
    "                                                |\n",
    "```"
   ]
  },
  {
   "cell_type": "code",
   "execution_count": 16,
   "metadata": {},
   "outputs": [
    {
     "name": "stdout",
     "output_type": "stream",
     "text": [
      "Podaj funkcje f(x)= sin(x)\n",
      "Podaj początek przedziału a= -pi\n",
      "Podaj koniec przedziału b= pi\n",
      "                                        |               ***** *****             \n",
      "                                        |             **           **           \n",
      "                                        |           **               **         \n",
      "                                        |         **                   *        \n",
      "                                        |        *                      **      \n",
      "                                        |      **                         *     \n",
      "                                        |     *                            *    \n",
      "                                        |    *                              **  \n",
      "                                        |   *                                 * \n",
      "                                        |  *                                   *\n",
      "                                        | *                                     \n",
      "--------------------------------------------------------------------------------\n",
      " *                                     *|                                       \n",
      "  *                                   * |                                       \n",
      "   *                                 *  |                                       \n",
      "    **                              *   |                                       \n",
      "      *                            *    |                                       \n",
      "       *                         **     |                                       \n",
      "        **                      *       |                                       \n",
      "          *                   **        |                                       \n",
      "           **               **          |                                       \n",
      "             **           **            |                                       \n",
      "               ***********              |                                       \n"
     ]
    }
   ],
   "source": [
    "from math import *\n",
    "import copy\n",
    "import numpy as np\n",
    "\n",
    "WIDTH = 80\n",
    "HEIGHT = 24\n",
    "\n",
    "\n",
    "def draw():\n",
    "    equation = input('Podaj funkcje f(x)= ')\n",
    "    equation = equation.replace(\"^\", \"**\")\n",
    "    a = eval(input('Podaj początek przedziału a= '))\n",
    "    b = eval(input('Podaj koniec przedziału b= '))\n",
    "    DELTA = (b-a)/(WIDTH+1)\n",
    "    \n",
    "    chart = np.chararray((HEIGHT+1, WIDTH), unicode=True)\n",
    "    chart[:]=0\n",
    "    \n",
    "    for x in range(HEIGHT):\n",
    "        for y in range(WIDTH):\n",
    "            if x == HEIGHT//2:\n",
    "                chart[x][y] = \"-\"\n",
    "            elif y == WIDTH//2:\n",
    "                chart[x][y] = \"|\"\n",
    "    \n",
    "    if a<b:\n",
    "        ys = fs(equation, a, DELTA)\n",
    "        ysCpy = sorted(ys)\n",
    "        min = ysCpy[0] \n",
    "        max = ysCpy[len(ysCpy)-1]\n",
    "\n",
    "        for x in range(WIDTH):\n",
    "            yTrans = floor((ys[x] - min) * ((HEIGHT-1)/(max-min)))\n",
    "            if chart[yTrans+1][x] == \"0\":\n",
    "                chart[yTrans+1][x] = \"*\"\n",
    "            \n",
    "            \n",
    "        for x in range(HEIGHT-1,0,-1):\n",
    "            for y in range(WIDTH):\n",
    "                if chart[x][y] == \"0\":\n",
    "                    print(\" \",end ='')\n",
    "                else:\n",
    "                    print(chart[x][y], end = '')\n",
    "            print()\n",
    "    else:\n",
    "        print(\"Zły przedział!\")\n",
    "\n",
    "def fs(equation, begin, DELTA):\n",
    "    xes = []\n",
    "    for x in range(WIDTH):\n",
    "        eq = equation.replace(\"x\", \"(\" + str(begin) + \")\")\n",
    "        xes.append(eval(eq))\n",
    "        begin += DELTA\n",
    "    return xes\n",
    "\n",
    "draw() #sin(x)/x"
   ]
  },
  {
   "cell_type": "markdown",
   "metadata": {},
   "source": [
    "## 1\n",
    "\n",
    "# "
   ]
  },
  {
   "cell_type": "code",
   "execution_count": null,
   "metadata": {},
   "outputs": [],
   "source": []
  }
 ],
 "metadata": {
  "kernelspec": {
   "display_name": "Python 3",
   "language": "python",
   "name": "python3"
  },
  "language_info": {
   "codemirror_mode": {
    "name": "ipython",
    "version": 3
   },
   "file_extension": ".py",
   "mimetype": "text/x-python",
   "name": "python",
   "nbconvert_exporter": "python",
   "pygments_lexer": "ipython3",
   "version": "3.6.9"
  }
 },
 "nbformat": 4,
 "nbformat_minor": 2
}
